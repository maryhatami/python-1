{
 "cells": [
  {
   "cell_type": "code",
   "execution_count": null,
   "metadata": {},
   "outputs": [],
   "source": [
    "inp_list = ['W','a','s','i','t','a','c','a','t','I','s','a','w','?']\n",
    "\n",
    "# Step 1: Create an empty stack\n",
    "stack = []\n",
    "\n",
    "# Step 2: Push all elements into the stack\n",
    "for letter in inp_list:\n",
    "    stack.append(letter)\n",
    "\n",
    "# Step 3: Pop all elements from the stack and put them back into the list\n",
    "for i in range(len(inp_list)):\n",
    "    inp_list[i] = stack.pop()\n",
    "\n",
    "# Now inp_list is reversed\n",
    "print(inp_list)\n"
   ]
  },
  {
   "cell_type": "code",
   "execution_count": null,
   "metadata": {},
   "outputs": [],
   "source": [
    "class__binarytree()\n"
   ]
  },
  {
   "cell_type": "code",
   "execution_count": null,
   "metadata": {},
   "outputs": [],
   "source": [
    "git remote add origin <https://github.com/maryhatami/maryhatami>"
   ]
  }
 ],
 "metadata": {
  "language_info": {
   "name": "python"
  }
 },
 "nbformat": 4,
 "nbformat_minor": 2
}
